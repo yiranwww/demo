{
 "cells": [
  {
   "cell_type": "markdown",
   "id": "c0518bb7",
   "metadata": {},
   "source": [
    "Kadane's Algorithm 是一种解决最大 子数组和 的DP算法。这类问题的目标是在给定整数数组中找到一个连续的子数组，使其元素之和最大（数组中含有负数）。\n",
    "核心思路： 通过迭代数组的每个元素，维护两个变量来track局部最优解和全局最优解。"
   ]
  },
  {
   "cell_type": "markdown",
   "id": "f174bf70",
   "metadata": {},
   "source": [
    "详细步骤：\n",
    "\n",
    "1. 初始化。 \n",
    "    令 maxEndingHere 表示在当前位置结束的最大子数组和，初始值为数组的第一个元素。\n",
    "    令 maxSoFar 表示全局最大子数组和，初始值为数组的第一个元素。\n",
    "\n",
    "2. 迭代。\n",
    "    从数组的第二个元素开始迭代。\n",
    "    对于每个元素，计算在当前位置结束的最大子数组和： maxEndingHere = max(maxEndingHere + nums[i], nums[i]). 表示要么继续当前子数组，要么从当前位置开始一个新的子数组。\n",
    "    更新全局最大子数组和： maxSoFar = max(maxSoFar, maxEndingHere). 如果在当前位置结束的子数组和大于全局和， 则更新全局和。\n",
    "\n",
    "3. 返回结果。 迭代完成后返回maxSoFar"
   ]
  },
  {
   "cell_type": "markdown",
   "id": "17a67e7c",
   "metadata": {},
   "source": [
    "时间复杂度 O(n). 空间复杂度 O(1)."
   ]
  },
  {
   "cell_type": "markdown",
   "id": "4fab2012",
   "metadata": {},
   "source": [
    "例题： 53， 918, 3434."
   ]
  }
 ],
 "metadata": {
  "language_info": {
   "name": "python"
  }
 },
 "nbformat": 4,
 "nbformat_minor": 5
}
