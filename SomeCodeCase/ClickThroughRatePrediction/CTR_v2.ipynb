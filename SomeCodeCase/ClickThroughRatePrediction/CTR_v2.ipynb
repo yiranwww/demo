{
 "cells": [
  {
   "cell_type": "markdown",
   "id": "5f36fe13",
   "metadata": {},
   "source": [
    "Based on the initial results of v1, in this version I will dig into the data features.\n",
    "Geomagnetic location, time stamp etc, to see if these helps."
   ]
  },
  {
   "cell_type": "code",
   "execution_count": null,
   "id": "7c963f12",
   "metadata": {
    "vscode": {
     "languageId": "plaintext"
    }
   },
   "outputs": [],
   "source": [
    "import calendar\n",
    "import pandas as pd\n",
    "from sklearn.preprocessing import LabelEncoder\n",
    "from sklearn.model_selection import train_test_split\n",
    "\n",
    "# numerical analysis\n",
    "import numpy as np\n",
    "import scipy.stats as stats\n",
    "from collections import Counter\n",
    "\n",
    "# data vis\n",
    "import seaborn as sns\n",
    "import matplotlib.pyplot as plt\n",
    "\n",
    "# model training\n",
    "from sklearn.ensemble import (\n",
    "    AdaBoostClassifier,\n",
    "    ExtraTreesClassifier,\n",
    "    RandomForestClassifier,\n",
    "    GradientBoostingClassifier,\n",
    "    HistGradientBoostingClassifier)\n",
    "\n",
    "from sklearn.svm import SVC\n",
    "from xgboost import XGBClassifier\n",
    "from lightgbm import LGBMClassifier\n",
    "from catboost import CatBoostClassifier\n",
    "from sklearn.naive_bayes import GaussianNB\n",
    "from sklearn.tree import DecisionTreeClassifier\n",
    "from sklearn.neighbors import KNeighborsClassifier\n",
    "from sklearn.linear_model import LogisticRegression\n"
   ]
  }
 ],
 "metadata": {
  "language_info": {
   "name": "python"
  }
 },
 "nbformat": 4,
 "nbformat_minor": 5
}
