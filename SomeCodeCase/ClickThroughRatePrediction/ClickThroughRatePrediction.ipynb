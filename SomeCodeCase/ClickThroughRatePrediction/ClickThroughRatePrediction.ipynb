{
 "cells": [
  {
   "cell_type": "code",
   "execution_count": 18,
   "id": "f917f5f4",
   "metadata": {},
   "outputs": [],
   "source": [
    "import pandas as pd\n",
    "import os\n",
    "\n",
    "# base_path = os.path.dirname(__file__)  # folder of py file\n",
    "base_path = os.getcwd() # folder of jupyter notebook\n",
    "csv_path = os.path.join(base_path, \"Data\", \"ad_10000records.csv\")\n"
   ]
  },
  {
   "cell_type": "code",
   "execution_count": 19,
   "id": "845e4abd",
   "metadata": {},
   "outputs": [
    {
     "name": "stdout",
     "output_type": "stream",
     "text": [
      "   Daily Time Spent on Site   Age  Area Income  Daily Internet Usage  \\\n",
      "0                     62.26  32.0     69481.85                172.83   \n",
      "1                     41.73  31.0     61840.26                207.17   \n",
      "2                     44.40  30.0     57877.15                172.83   \n",
      "\n",
      "                         Ad Topic Line             City  Gender  \\\n",
      "0      Decentralized real-time circuit         Lisafort    Male   \n",
      "1       Optional full-range projection  West Angelabury    Male   \n",
      "2  Total 5thgeneration standardization        Reyesfurt  Female   \n",
      "\n",
      "                        Country            Timestamp  Clicked on Ad  \n",
      "0  Svalbard & Jan Mayen Islands  2016-06-09 21:43:05              0  \n",
      "1                     Singapore  2016-01-16 17:56:05              0  \n",
      "2                    Guadeloupe  2016-06-29 10:50:45              0  \n",
      "(10000, 10)\n"
     ]
    }
   ],
   "source": [
    "\n",
    "data = pd.read_csv(csv_path)\n",
    "# check column orders and names and the first few rows see if we need to transfer data types\n",
    "pd.set_option(\"display.max_columns\", None)\n",
    "print(data.head(3))\n",
    "print(data.shape)\n"
   ]
  },
  {
   "cell_type": "code",
   "execution_count": 20,
   "id": "084529b4",
   "metadata": {},
   "outputs": [
    {
     "name": "stdout",
     "output_type": "stream",
     "text": [
      "\n",
      "Missing values:\n"
     ]
    },
    {
     "data": {
      "text/plain": [
       "Daily Time Spent on Site    0\n",
       "Age                         0\n",
       "Area Income                 0\n",
       "Daily Internet Usage        0\n",
       "Ad Topic Line               0\n",
       "City                        0\n",
       "Gender                      0\n",
       "Country                     0\n",
       "Timestamp                   0\n",
       "Clicked on Ad               0\n",
       "dtype: int64"
      ]
     },
     "execution_count": 20,
     "metadata": {},
     "output_type": "execute_result"
    }
   ],
   "source": [
    "# checking missing values\n",
    "print(\"\\nMissing values:\")\n",
    "data.isnull().sum()"
   ]
  },
  {
   "cell_type": "markdown",
   "id": "b1d0697c",
   "metadata": {},
   "source": [
    "It is good to see there is no missing data in this database."
   ]
  },
  {
   "cell_type": "code",
   "execution_count": 21,
   "id": "8fda5b86",
   "metadata": {},
   "outputs": [
    {
     "data": {
      "text/plain": [
       "Clicked on Ad\n",
       "0    5083\n",
       "1    4917\n",
       "Name: count, dtype: int64"
      ]
     },
     "execution_count": 21,
     "metadata": {},
     "output_type": "execute_result"
    }
   ],
   "source": [
    "# check if lable is balanced\n",
    "data['Clicked on Ad'].value_counts()\n"
   ]
  },
  {
   "cell_type": "markdown",
   "id": "51477d5e",
   "metadata": {},
   "source": [
    "label-0 : 5083\n",
    "label-1 : 4917\n",
    "Slightly imbalanced.\n"
   ]
  },
  {
   "cell_type": "code",
   "execution_count": 24,
   "id": "5e0e22b1",
   "metadata": {},
   "outputs": [
    {
     "name": "stdout",
     "output_type": "stream",
     "text": [
      "   Daily Time Spent on Site   Age  Area Income  Daily Internet Usage  Gender\n",
      "0                     62.26  32.0     69481.85                172.83       0\n",
      "1                     41.73  31.0     61840.26                207.17       0\n",
      "2                     44.40  30.0     57877.15                172.83       1\n"
     ]
    }
   ],
   "source": [
    "# feature engineering\n",
    "# Daily Time Spent on Site   Age  Area Income  Daily Internet Usage  \\\n",
    "# 0                     62.26  32.0     69481.85                172.83   \n",
    "# 1                     41.73  31.0     61840.26                207.17   \n",
    "# 2                     44.40  30.0     57877.15                172.83   \n",
    "\n",
    "#                          Ad Topic Line             City  Gender  \\\n",
    "# 0      Decentralized real-time circuit         Lisafort    Male   \n",
    "# 1       Optional full-range projection  West Angelabury    Male   \n",
    "# 2  Total 5thgeneration standardization        Reyesfurt  Female   \n",
    "\n",
    "#                         Country            Timestamp  Clicked on Ad  \n",
    "# 0  Svalbard & Jan Mayen Islands  2016-06-09 21:43:05              0  \n",
    "# 1                     Singapore  2016-01-16 17:56:05              0  \n",
    "# 2                    Guadeloupe  2016-06-29 10:50:45              0  \n",
    "\n",
    "# Copy the first several as parts of the features, we ignore the Ad Topic, countrty, city, and timestamp for now\n",
    "feature_index = [0, 1, 2,3,6]\n",
    "x_data = data.iloc[:, feature_index].copy()\n",
    "# we can see the gender needs to be transferred to numerical value\n",
    "x_data['Gender'] = x_data['Gender'].map({'Male': 0, 'Female': 1})\n",
    "y_data = data.iloc[:, 9]\n",
    "print(x_data.head(3))"
   ]
  },
  {
   "cell_type": "code",
   "execution_count": null,
   "id": "211c99db",
   "metadata": {},
   "outputs": [],
   "source": [
    "# set training and testing data\n",
    "from sklearn.model_selection import train_test_split\n",
    "from sklearn.preprocessing import StandardScaler\n",
    "\n",
    "x_train, x_test, y_train, y_test = train_test_split(x_data, y_data, test_size=0.2, random_state=42)\n",
    "\n",
    "scaler = StandardScaler()\n",
    "X_train_scaled = scaler.fit_transform(x_train)\n",
    "X_test_scaled = scaler.transform(x_test)"
   ]
  },
  {
   "cell_type": "code",
   "execution_count": null,
   "id": "6978f470",
   "metadata": {},
   "outputs": [],
   "source": [
    "from sklearn.linear_model import LogisticRegression\n",
    "\n",
    "model = LogisticRegression()\n",
    "model.fit(X_train_scaled, y_train)"
   ]
  }
 ],
 "metadata": {
  "kernelspec": {
   "display_name": "torch",
   "language": "python",
   "name": "python3"
  },
  "language_info": {
   "codemirror_mode": {
    "name": "ipython",
    "version": 3
   },
   "file_extension": ".py",
   "mimetype": "text/x-python",
   "name": "python",
   "nbconvert_exporter": "python",
   "pygments_lexer": "ipython3",
   "version": "3.10.18"
  }
 },
 "nbformat": 4,
 "nbformat_minor": 5
}
